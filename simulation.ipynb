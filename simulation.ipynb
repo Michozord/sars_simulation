{
 "cells": [
  {
   "cell_type": "code",
   "execution_count": 1,
   "id": "ad2993b6-ddff-48c5-8441-a76a508e6afd",
   "metadata": {},
   "outputs": [],
   "source": [
    "import numpy as np\n",
    "import matplotlib.pyplot as plt\n",
    "from simulation_backend import Person, Scenario"
   ]
  },
  {
   "cell_type": "code",
   "execution_count": null,
   "id": "6d3c7015-7ba6-4ce3-a347-449ad11d53ac",
   "metadata": {},
   "outputs": [],
   "source": [
    "sims_per_scenario = 2\n",
    "T = 7*16\n",
    "T_control = 7*12\n",
    "initial_cases = 20\n",
    "onset_to_isolation = \"short\"\n",
    "transmission_before_symptoms_percentage = 15\n",
    "subclinical_prob = 0\n",
    "controlled = {}\n",
    "for R_0 in [2.5]:\n",
    "    controlled[R_0] = []\n",
    "    for rho in np.linspace(0, 1, num=6):     # [0, 0.2, 0.4, 0.6, 0.8, 1]\n",
    "        cases_in_control = []\n",
    "        for _ in range(sims_per_scenario):\n",
    "            scen = Scenario(\n",
    "                T=T,\n",
    "                T_control=T_control,\n",
    "                initial_cases=initial_cases,\n",
    "                rho=rho,\n",
    "                R_0=R_0,\n",
    "                subclinical_prob=subclinical_prob,\n",
    "                transmission_before_symptoms_percentage=transmission_before_symptoms_percentage,\n",
    "                onset_to_isolation=onset_to_isolation,\n",
    "            )\n",
    "            scen.simulate()\n",
    "            cases_in_control.append(scen.cases_in_control)\n",
    "        controlled[R_0].append(sum([i==0 for i in cases_in_control])/sims_per_scenario)"
   ]
  },
  {
   "cell_type": "code",
   "execution_count": null,
   "id": "a5390594-fff2-442f-b42a-e9de8eb34989",
   "metadata": {},
   "outputs": [],
   "source": [
    "sims_per_scenario = 2\n",
    "T = 7*16\n",
    "T_control = 7*12\n",
    "initial_cases = 20\n",
    "onset_to_isolation = \"short\"\n",
    "transmission_before_symptoms_percentage = 15\n",
    "subclinical_prob = 0\n",
    "controlled = {}\n",
    "R_0 = 2.5\n",
    "\n",
    "for rho in np.linspace(0, 1, num=6):     # [0, 0.2, 0.4, 0.6, 0.8, 1]\n",
    "    cases_in_control = []\n",
    "    for _ in range(sims_per_scenario):\n",
    "        scen = Scenario(\n",
    "            T=T,\n",
    "            T_control=T_control,\n",
    "            initial_cases=initial_cases,\n",
    "            rho=rho,\n",
    "            R_0=R_0,\n",
    "            subclinical_prob=subclinical_prob,\n",
    "            transmission_before_symptoms_percentage=transmission_before_symptoms_percentage,\n",
    "            onset_to_isolation=onset_to_isolation,\n",
    "        )\n",
    "        scen.simulate()\n",
    "        cases_in_control.append(scen.cases_in_control)\n",
    "    controlled.append(sum([i==0 for i in cases_in_control])/sims_per_scenario)"
   ]
  },
  {
   "cell_type": "code",
   "execution_count": 4,
   "id": "bfa75682-3206-4c99-80fe-8c2de76710b0",
   "metadata": {},
   "outputs": [
    {
     "data": {
      "text/plain": [
       "[<matplotlib.lines.Line2D at 0x1f54ad73b00>]"
      ]
     },
     "execution_count": 4,
     "metadata": {},
     "output_type": "execute_result"
    },
    {
     "data": {
      "image/png": "[encoded data removed]",
      "text/plain": [
       "<Figure size 640x480 with 1 Axes>"
      ]
     },
     "metadata": {},
     "output_type": "display_data"
    }
   ],
   "source": [
    "fig, ax = plt.subplots(1, 1)\n",
    "for R_0 in [2.5]:\n",
    "    ax.plot(np.linspace(0, 1, num=6), controlled[R_0], '-', marker='o', label=str(R_0))\n",
    "plt.legend()"
   ]
  },
  {
   "cell_type": "code",
   "execution_count": null,
   "id": "271da11d-9ac1-4dbf-bb7c-29d7fbb6520e",
   "metadata": {},
   "outputs": [],
   "source": []
  }
 ],
 "metadata": {
  "kernelspec": {
   "display_name": "Python 3 (ipykernel)",
   "language": "python",
   "name": "python3"
  },
  "language_info": {
   "codemirror_mode": {
    "name": "ipython",
    "version": 3
   },
   "file_extension": ".py",
   "mimetype": "text/x-python",
   "name": "python",
   "nbconvert_exporter": "python",
   "pygments_lexer": "ipython3",
   "version": "3.12.1"
  },
  "widgets": {
   "application/vnd.jupyter.widget-state+json": {
    "state": {},
    "version_major": 2,
    "version_minor": 0
   }
  }
 },
 "nbformat": 4,
 "nbformat_minor": 5
}
